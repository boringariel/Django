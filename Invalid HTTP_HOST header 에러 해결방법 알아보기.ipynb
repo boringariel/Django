{
 "cells": [
  {
   "cell_type": "markdown",
   "id": "7ec1d1c3-1406-47da-a5f7-84e881d0f9d1",
   "metadata": {},
   "source": [
    "# Django에서 Invalid HTTP_HOST header 에러가 날 때 해결하는 방법 알아보기\n",
    "---\n",
    "파이썬(Python)의 웹 프레임워크인 장고(Django)를 이용하면 손쉽게 다양한 기능을 가진 웹사이트를 만들 수 있습니다. 에러가 발생했을 때를 빼고 말이죠. 이번에는 Django에서 Invalid HTTP_HOST header 에러가 났길래 이걸 해결하는 방법을 알아보았습니다.  \n",
    "</p></br></br>\n",
    "\n",
    "우선, 에러가 발생하는 케이스를 살펴보도록 합시다. 장고 프로젝트를 만든 뒤, 이리저리 편집하다가 호스팅을 해 보면 접속하자마자 이런 화면을 확인할 수 있는데, 이게 Invalid HTTP_HOST header 에러가 발생한 화면입니다.  \n",
    "</p></br></br>\n",
    "\n",
    "<center><img src=\"./data/invalid_http_host/1.webp\"></center>\n",
    "</p></br></br>\n",
    "\n",
    "이 때는 프로젝트의 settings.py 파일을 수정해서 문제를 해결할 수 있습니다. 알고 보니, 장고에서는 접속이 허용된 대상에서만 웹사이트를 보여준다고 하더라고요. 그렇다면 모든 컴퓨터에서 접속을 할 수 있도록 설정을 해 두면 될겁니다. 우선은 프로젝트 폴더 안에 있는 setting.py 파일을 연 뒤, ALLOWED_HOSTS 항목을 찾아봅시다. 대개 비어있거나 접속하려는 컴퓨터 정보가 적혀있지 않은 상태일겁니다.   \n",
    "</p></br></br>\n",
    "\n",
    "<center><img src=\"./data/invalid_http_host/2.webp\"></center>\n",
    "</p></br></br>\n",
    "\n",
    "다음으로는, 아래 이미지처럼 와일드카드 표기를 해서 저장해 줍니다. 이렇게 하면 어떤 접속이던 허용한다는 말이기 때문에, 해당 파이썬 장고 프로젝트에서는 Invalid HTTP_HOST header 에러가 생기지 않게 됩니다.  \n",
    "</p></br></br>\n",
    "<center><img src=\"./data/invalid_http_host/3.webp\"></center>\n"
   ]
  }
 ],
 "metadata": {
  "kernelspec": {
   "display_name": "test311",
   "language": "python",
   "name": "test311"
  },
  "language_info": {
   "codemirror_mode": {
    "name": "ipython",
    "version": 3
   },
   "file_extension": ".py",
   "mimetype": "text/x-python",
   "name": "python",
   "nbconvert_exporter": "python",
   "pygments_lexer": "ipython3",
   "version": "3.11.4"
  },
  "widgets": {
   "application/vnd.jupyter.widget-state+json": {
    "state": {},
    "version_major": 2,
    "version_minor": 0
   }
  }
 },
 "nbformat": 4,
 "nbformat_minor": 5
}
